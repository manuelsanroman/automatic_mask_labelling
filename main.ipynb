{
 "cells": [
  {
   "cell_type": "markdown",
   "metadata": {},
   "source": [
    "# Automatic Mask Labelling\n",
    "### Notebook with different implementations"
   ]
  },
  {
   "cell_type": "code",
   "execution_count": null,
   "metadata": {},
   "outputs": [],
   "source": [
    "# Import libraries\n",
    "from IPython.display import Image\n",
    "\n",
    "# Import functions\n",
    "from run_SAM import run_SAM\n",
    "from labelling import labelling_mplug, labelling_clip, labelling_gpt4, labelling_gpt4_impl2"
   ]
  },
  {
   "cell_type": "markdown",
   "metadata": {},
   "source": [
    "## Implementation with mPLUG"
   ]
  },
  {
   "cell_type": "code",
   "execution_count": null,
   "metadata": {},
   "outputs": [],
   "source": [
    "# INFORMATION REQUIRED for the Automatic Mask Labelling with mPLUG\n",
    "# Please, fill this information\n",
    "image = \"images/ak47.png\"\n",
    "asset_name = \"ak47\"\n",
    "asset_type = \"weapon asset from the videogame Counter-Strike\""
   ]
  },
  {
   "cell_type": "code",
   "execution_count": null,
   "metadata": {},
   "outputs": [],
   "source": [
    "# Display the image\n",
    "Image(filename=image)"
   ]
  },
  {
   "cell_type": "code",
   "execution_count": null,
   "metadata": {},
   "outputs": [],
   "source": [
    "# ESTABLISH THE MAXIMUM NUMBER OF MASKS YOU WANT TO OUTPUT\n",
    "# Please, fill this variable with the maximum number of masks you want to output or None if you want to output all the masks\n",
    "\n",
    "max_masks = None"
   ]
  },
  {
   "cell_type": "code",
   "execution_count": null,
   "metadata": {},
   "outputs": [],
   "source": [
    "# Perform FastSAM over the image to extract the masks and the cropped segments\n",
    "run_SAM(image, max_value=max_masks)"
   ]
  },
  {
   "cell_type": "code",
   "execution_count": null,
   "metadata": {},
   "outputs": [],
   "source": [
    "# Perform VQA over the cropped segments to label and save them\n",
    "# In this case, mPLUG\n",
    "labelling_mplug(asset_name, asset_type, image)"
   ]
  },
  {
   "cell_type": "markdown",
   "metadata": {},
   "source": [
    "## Implementation with CLIP"
   ]
  },
  {
   "cell_type": "code",
   "execution_count": null,
   "metadata": {},
   "outputs": [],
   "source": [
    "# INFORMATION REQUIRED for the Automatic Mask Labelling with mPLUG\n",
    "# Please, fill this information\n",
    "image = \"images/soccer_kit.png\"\n",
    "asset_name = \"soccer kit\"\n",
    "# Write the parts you want to identify for this asset\n",
    "labels = [\"T-shirt\", \"Shorts\"]"
   ]
  },
  {
   "cell_type": "code",
   "execution_count": null,
   "metadata": {},
   "outputs": [],
   "source": [
    "# Display the image\n",
    "Image(filename=image)"
   ]
  },
  {
   "cell_type": "code",
   "execution_count": null,
   "metadata": {},
   "outputs": [],
   "source": [
    "# ESTABLISH THE MAXIMUM NUMBER OF MASKS YOU WANT TO OUTPUT\n",
    "# Please, fill this variable with the maximum number of masks you want to output or None if you want to output all the masks\n",
    "\n",
    "max_masks = None"
   ]
  },
  {
   "cell_type": "code",
   "execution_count": null,
   "metadata": {},
   "outputs": [],
   "source": [
    "# Perform FastSAM over the image to extract the masks and the cropped segments\n",
    "run_SAM(image, max_value=max_masks)"
   ]
  },
  {
   "cell_type": "code",
   "execution_count": null,
   "metadata": {},
   "outputs": [],
   "source": [
    "# Perform VQA over the cropped segments to label and save them\n",
    "# In this case, mPLUG\n",
    "labelling_clip(asset_name, image, labels)"
   ]
  },
  {
   "cell_type": "markdown",
   "metadata": {},
   "source": [
    "## Implementation with GPT4"
   ]
  },
  {
   "cell_type": "code",
   "execution_count": null,
   "metadata": {},
   "outputs": [],
   "source": [
    "# INFORMATION REQUIRED for the Automatic Mask Labelling with mPLUG\n",
    "# Please, fill this information\n",
    "image = \"images/ak47.png\"\n",
    "asset_name = \"ak47\"\n",
    "asset_type = \"weapon asset from the videogame Counter-Strike\""
   ]
  },
  {
   "cell_type": "code",
   "execution_count": null,
   "metadata": {},
   "outputs": [],
   "source": [
    "# Display the image\n",
    "Image(filename=image)"
   ]
  },
  {
   "cell_type": "code",
   "execution_count": null,
   "metadata": {},
   "outputs": [],
   "source": [
    "# ESTABLISH THE MAXIMUM NUMBER OF MASKS YOU WANT TO OUTPUT\n",
    "# Please, fill this variable with the maximum number of masks you want to output or None if you want to output all the masks\n",
    "\n",
    "max_masks = None"
   ]
  },
  {
   "cell_type": "code",
   "execution_count": null,
   "metadata": {},
   "outputs": [],
   "source": [
    "# Perform FastSAM over the image to extract the masks and the cropped segments\n",
    "run_SAM(image, max_value=max_masks)"
   ]
  },
  {
   "cell_type": "code",
   "execution_count": null,
   "metadata": {},
   "outputs": [],
   "source": [
    "# Perform VQA over the cropped segments to label and save them\n",
    "# In this case, mPLUG\n",
    "labelling_gpt4(asset_name, asset_type, image)"
   ]
  },
  {
   "cell_type": "markdown",
   "metadata": {},
   "source": [
    "## Implementation with GPT4 taking into account the whole UV Mapping of the asset"
   ]
  },
  {
   "cell_type": "code",
   "execution_count": null,
   "metadata": {},
   "outputs": [],
   "source": [
    "# INFORMATION REQUIRED for the Automatic Mask Labelling with mPLUG\n",
    "# Please, fill this information\n",
    "image = \"images/ak47.png\"\n",
    "asset_name = \"ak47\"\n",
    "asset_type = \"weapon asset from the videogame Counter-Strike\""
   ]
  },
  {
   "cell_type": "code",
   "execution_count": null,
   "metadata": {},
   "outputs": [],
   "source": [
    "# Display the image\n",
    "Image(filename=image)"
   ]
  },
  {
   "cell_type": "code",
   "execution_count": null,
   "metadata": {},
   "outputs": [],
   "source": [
    "# ESTABLISH THE MAXIMUM NUMBER OF MASKS YOU WANT TO OUTPUT\n",
    "# Please, fill this variable with the maximum number of masks you want to output or None if you want to output all the masks\n",
    "\n",
    "max_masks = None"
   ]
  },
  {
   "cell_type": "code",
   "execution_count": null,
   "metadata": {},
   "outputs": [],
   "source": [
    "# Perform FastSAM over the image to extract the masks and the cropped segments\n",
    "run_SAM(image, max_value=max_masks)"
   ]
  },
  {
   "cell_type": "code",
   "execution_count": null,
   "metadata": {},
   "outputs": [],
   "source": [
    "# Perform VQA over the cropped segments to label and save them\n",
    "# In this case, mPLUG\n",
    "labelling_gpt4_impl2(asset_name, asset_type, image)"
   ]
  }
 ],
 "metadata": {
  "kernelspec": {
   "display_name": ".venv",
   "language": "python",
   "name": "python3"
  },
  "language_info": {
   "codemirror_mode": {
    "name": "ipython",
    "version": 3
   },
   "file_extension": ".py",
   "mimetype": "text/x-python",
   "name": "python",
   "nbconvert_exporter": "python",
   "pygments_lexer": "ipython3",
   "version": "3.10.11"
  }
 },
 "nbformat": 4,
 "nbformat_minor": 2
}
